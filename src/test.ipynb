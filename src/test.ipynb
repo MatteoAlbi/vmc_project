{
 "cells": [
  {
   "cell_type": "code",
   "execution_count": 2,
   "metadata": {},
   "outputs": [],
   "source": [
    "import numpy as np\n",
    "import struct"
   ]
  },
  {
   "cell_type": "code",
   "execution_count": 3,
   "metadata": {},
   "outputs": [
    {
     "name": "stdout",
     "output_type": "stream",
     "text": [
      "[  0  28  56  85 113 141 170 198 226 255] [  0  28  56  85 113 141 170 198 226 255] [  0  28  56  85 113 141 170 198 226 255] [200 200 200 200 200 200 200 200 200 200]\n"
     ]
    },
    {
     "data": {
      "text/plain": [
       "10"
      ]
     },
     "execution_count": 3,
     "metadata": {},
     "output_type": "execute_result"
    }
   ],
   "source": [
    "x = np.linspace(0,1,10)\n",
    "y = np.linspace(0,1,10)\n",
    "z = np.linspace(0,1,10)\n",
    "r = (x * 255.0).astype(int).astype(np.uint8)\n",
    "g = (y * 255.0).astype(int).astype(np.uint8)\n",
    "b = (z * 255.0).astype(int).astype(np.uint8)\n",
    "a = (np.ones(r.shape)*200).astype(int).astype(np.uint8)\n",
    "\n",
    "print(b, g, r, a)\n",
    "x.shape[0]"
   ]
  },
  {
   "cell_type": "code",
   "execution_count": 4,
   "metadata": {},
   "outputs": [
    {
     "data": {
      "text/plain": [
       "array([1429740544, 3333066097,  469827554, 2373014840, 4293052074,\n",
       "       1429740544, 3333066097, 3368615906, 3368601800, 3368601800],\n",
       "      dtype=uint32)"
      ]
     },
     "execution_count": 4,
     "metadata": {},
     "output_type": "execute_result"
    }
   ],
   "source": [
    "# convert into 32bit data field\n",
    "C = np.hstack((r,g,b,a))\n",
    "C = C.view(\"uint32\")\n",
    "C"
   ]
  },
  {
   "cell_type": "code",
   "execution_count": 5,
   "metadata": {},
   "outputs": [
    {
     "name": "stdout",
     "output_type": "stream",
     "text": [
      "(10, 7)\n"
     ]
    },
    {
     "data": {
      "text/plain": [
       "[0.0, 0.0, 0.0, 0.0, 0.0, 0.0, 200.0]"
      ]
     },
     "execution_count": 5,
     "metadata": {},
     "output_type": "execute_result"
    }
   ],
   "source": [
    "# np stacking to create list of points\n",
    "p = np.transpose(np.vstack((x,y,x,r,g,b,a)))\n",
    "print(p.shape)\n",
    "l = p.tolist()\n",
    "l[0]"
   ]
  },
  {
   "cell_type": "code",
   "execution_count": 6,
   "metadata": {},
   "outputs": [
    {
     "name": "stdout",
     "output_type": "stream",
     "text": [
      "0xc8000000\n"
     ]
    }
   ],
   "source": [
    "# hex packing\n",
    "rgb = struct.unpack('I', struct.pack('BBBB', b[0], g[0], r[0], a[0]))[0]\n",
    "print (hex(rgb))"
   ]
  },
  {
   "cell_type": "code",
   "execution_count": 7,
   "metadata": {},
   "outputs": [
    {
     "name": "stdout",
     "output_type": "stream",
     "text": [
      "(4, 4) \n",
      " [[0.59791544 0.24768952 0.67046945 0.40757149]\n",
      " [0.83251591 0.63351522 0.20272567 0.21953085]\n",
      " [0.48164112 0.98933892 0.96361719 0.24423789]\n",
      " [0.49307048 0.03198432 0.15312612 0.31272416]]\n",
      "(16,) \n",
      " [0.59791544 0.24768952 0.67046945 0.40757149 0.83251591 0.63351522\n",
      " 0.20272567 0.21953085 0.48164112 0.98933892 0.96361719 0.24423789\n",
      " 0.49307048 0.03198432 0.15312612 0.31272416]\n",
      "[0 0 0 0 0 0 0 0 0 0 0 0 0 0 0 0 0 0 0 0 0 0 0 0 0 0 0 0 0 0 0 0 0 0 0 0 0\n",
      " 0 0 0 0 0 0 0 0 1 1 1 1 1] [0.         0.         0.         0.         0.         0.11111111\n",
      " 0.11111111 0.11111111 0.11111111 0.11111111 0.22222222 0.22222222\n",
      " 0.22222222 0.22222222 0.22222222 0.33333333 0.33333333 0.33333333\n",
      " 0.33333333 0.33333333 0.44444444 0.44444444 0.44444444 0.44444444\n",
      " 0.44444444 0.55555556 0.55555556 0.55555556 0.55555556 0.55555556\n",
      " 0.66666667 0.66666667 0.66666667 0.66666667 0.66666667 0.77777778\n",
      " 0.77777778 0.77777778 0.77777778 0.77777778 0.88888889 0.88888889\n",
      " 0.88888889 0.88888889 0.88888889 1.         1.         1.\n",
      " 1.         1.        ]\n"
     ]
    },
    {
     "data": {
      "text/plain": [
       "array([0.        , 0.11111111, 0.22222222, 0.33333333, 0.44444444,\n",
       "       0.55555556, 0.66666667, 0.77777778, 0.88888889, 1.        ,\n",
       "       0.        , 0.11111111, 0.22222222, 0.33333333, 0.44444444,\n",
       "       0.55555556, 0.66666667, 0.77777778, 0.88888889, 1.        ,\n",
       "       0.        , 0.11111111, 0.22222222, 0.33333333, 0.44444444,\n",
       "       0.55555556, 0.66666667, 0.77777778, 0.88888889, 1.        ,\n",
       "       0.        , 0.11111111, 0.22222222, 0.33333333, 0.44444444,\n",
       "       0.55555556, 0.66666667, 0.77777778, 0.88888889, 1.        ,\n",
       "       0.        , 0.11111111, 0.22222222, 0.33333333, 0.44444444,\n",
       "       0.55555556, 0.66666667, 0.77777778, 0.88888889, 1.        ])"
      ]
     },
     "execution_count": 7,
     "metadata": {},
     "output_type": "execute_result"
    }
   ],
   "source": [
    "# linearize matrix\n",
    "m = np.random.rand(4,4)\n",
    "print(m.shape, \"\\n\", m)\n",
    "#a = np.squeeze(np.asarray(m))\n",
    "a = np.asarray(m).reshape(-1)\n",
    "print(a.shape, \"\\n\", a)\n",
    "\n",
    "# stack vectors\n",
    "print(np.repeat(x,5).astype(np.ubyte), np.repeat(x,5))\n",
    "np.tile(x,5)"
   ]
  },
  {
   "cell_type": "code",
   "execution_count": 13,
   "metadata": {},
   "outputs": [
    {
     "name": "stdout",
     "output_type": "stream",
     "text": [
      "[[0.8775825618903728, -0.479425538604203], [0.479425538604203, 0.8775825618903728]]\n",
      "[[ 0.87758256 -0.47942554]\n",
      " [ 0.47942554  0.87758256]]\n"
     ]
    }
   ],
   "source": [
    "# rotation matrix\n",
    "theta = 0.5\n",
    "print([[np.cos(theta), -np.sin(theta)],[np.sin(theta), np.cos(theta)]])\n",
    "R = np.array([[np.cos(theta), -np.sin(theta)],[np.sin(theta), np.cos(theta)]])\n",
    "print(R)"
   ]
  }
 ],
 "metadata": {
  "interpreter": {
   "hash": "916dbcbb3f70747c44a77c7bcd40155683ae19c65e1c03b4aa3499c5328201f1"
  },
  "kernelspec": {
   "display_name": "Python 3.8.10 64-bit",
   "language": "python",
   "name": "python3"
  },
  "language_info": {
   "codemirror_mode": {
    "name": "ipython",
    "version": 3
   },
   "file_extension": ".py",
   "mimetype": "text/x-python",
   "name": "python",
   "nbconvert_exporter": "python",
   "pygments_lexer": "ipython3",
   "version": "3.8.10"
  },
  "orig_nbformat": 4
 },
 "nbformat": 4,
 "nbformat_minor": 2
}
