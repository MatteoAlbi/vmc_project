{
 "cells": [
  {
   "cell_type": "code",
   "execution_count": 1,
   "metadata": {},
   "outputs": [],
   "source": [
    "import numpy as np\n",
    "import struct"
   ]
  },
  {
   "cell_type": "code",
   "execution_count": 37,
   "metadata": {},
   "outputs": [
    {
     "name": "stdout",
     "output_type": "stream",
     "text": [
      "[  0  28  56  85 113 141 170 198 226 255] [  0  28  56  85 113 141 170 198 226 255] [  0  28  56  85 113 141 170 198 226 255] [200 200 200 200 200 200 200 200 200 200]\n"
     ]
    },
    {
     "data": {
      "text/plain": [
       "10"
      ]
     },
     "execution_count": 37,
     "metadata": {},
     "output_type": "execute_result"
    }
   ],
   "source": [
    "x = np.linspace(0,1,10)\n",
    "y = np.linspace(0,1,10)\n",
    "z = np.linspace(0,1,10)\n",
    "r = (x * 255.0).astype(int).astype(np.uint8)\n",
    "g = (y * 255.0).astype(int).astype(np.uint8)\n",
    "b = (z * 255.0).astype(int).astype(np.uint8)\n",
    "a = (np.ones(r.shape)*200).astype(int).astype(np.uint8)\n",
    "\n",
    "print(b, g, r, a)\n",
    "x.shape[0]"
   ]
  },
  {
   "cell_type": "code",
   "execution_count": 35,
   "metadata": {},
   "outputs": [
    {
     "data": {
      "text/plain": [
       "array([1429740544, 3333066097,  469827554, 2373014840, 4293052074,\n",
       "       1429740544, 3333066097, 3368615906, 3368601800, 3368601800],\n",
       "      dtype=uint32)"
      ]
     },
     "execution_count": 35,
     "metadata": {},
     "output_type": "execute_result"
    }
   ],
   "source": [
    "# convert into 32bit data field\n",
    "C = np.hstack((r,g,b,a))\n",
    "C = C.view(\"uint32\")\n",
    "C"
   ]
  },
  {
   "cell_type": "code",
   "execution_count": 8,
   "metadata": {},
   "outputs": [
    {
     "name": "stdout",
     "output_type": "stream",
     "text": [
      "(10, 7)\n"
     ]
    },
    {
     "data": {
      "text/plain": [
       "[0.0, 0.0, 0.0, 0.0, 0.0, 0.0, 200.0]"
      ]
     },
     "execution_count": 8,
     "metadata": {},
     "output_type": "execute_result"
    }
   ],
   "source": [
    "# np stacking to create list of points\n",
    "p = np.transpose(np.vstack((x,y,x,r,g,b,a)))\n",
    "print(p.shape)\n",
    "l = p.tolist()\n",
    "l[0]"
   ]
  },
  {
   "cell_type": "code",
   "execution_count": 10,
   "metadata": {},
   "outputs": [
    {
     "name": "stdout",
     "output_type": "stream",
     "text": [
      "0xc8000000\n"
     ]
    }
   ],
   "source": [
    "# hex packing\n",
    "rgb = struct.unpack('I', struct.pack('BBBB', b[0], g[0], r[0], a[0]))[0]\n",
    "print (hex(rgb))"
   ]
  },
  {
   "cell_type": "code",
   "execution_count": 16,
   "metadata": {},
   "outputs": [
    {
     "name": "stdout",
     "output_type": "stream",
     "text": [
      "(4, 4) \n",
      " [[0.71791218 0.96436563 0.90846943 0.23159196]\n",
      " [0.16261142 0.24047504 0.00318233 0.45206543]\n",
      " [0.88841677 0.5351357  0.48188373 0.0618341 ]\n",
      " [0.80605383 0.10785462 0.77415007 0.51203836]]\n",
      "(16,) \n",
      " [0.71791218 0.96436563 0.90846943 0.23159196 0.16261142 0.24047504\n",
      " 0.00318233 0.45206543 0.88841677 0.5351357  0.48188373 0.0618341\n",
      " 0.80605383 0.10785462 0.77415007 0.51203836]\n",
      "[0 0 0 0 0 0 0 0 0 0 0 0 0 0 0 0 0 0 0 0 0 0 0 0 0 0 0 0 0 0 0 0 0 0 0 0 0\n",
      " 0 0 0 0 0 0 0 0 1 1 1 1 1] [0.         0.         0.         0.         0.         0.11111111\n",
      " 0.11111111 0.11111111 0.11111111 0.11111111 0.22222222 0.22222222\n",
      " 0.22222222 0.22222222 0.22222222 0.33333333 0.33333333 0.33333333\n",
      " 0.33333333 0.33333333 0.44444444 0.44444444 0.44444444 0.44444444\n",
      " 0.44444444 0.55555556 0.55555556 0.55555556 0.55555556 0.55555556\n",
      " 0.66666667 0.66666667 0.66666667 0.66666667 0.66666667 0.77777778\n",
      " 0.77777778 0.77777778 0.77777778 0.77777778 0.88888889 0.88888889\n",
      " 0.88888889 0.88888889 0.88888889 1.         1.         1.\n",
      " 1.         1.        ]\n"
     ]
    },
    {
     "data": {
      "text/plain": [
       "array([0.        , 0.11111111, 0.22222222, 0.33333333, 0.44444444,\n",
       "       0.55555556, 0.66666667, 0.77777778, 0.88888889, 1.        ,\n",
       "       0.        , 0.11111111, 0.22222222, 0.33333333, 0.44444444,\n",
       "       0.55555556, 0.66666667, 0.77777778, 0.88888889, 1.        ,\n",
       "       0.        , 0.11111111, 0.22222222, 0.33333333, 0.44444444,\n",
       "       0.55555556, 0.66666667, 0.77777778, 0.88888889, 1.        ,\n",
       "       0.        , 0.11111111, 0.22222222, 0.33333333, 0.44444444,\n",
       "       0.55555556, 0.66666667, 0.77777778, 0.88888889, 1.        ,\n",
       "       0.        , 0.11111111, 0.22222222, 0.33333333, 0.44444444,\n",
       "       0.55555556, 0.66666667, 0.77777778, 0.88888889, 1.        ])"
      ]
     },
     "execution_count": 16,
     "metadata": {},
     "output_type": "execute_result"
    }
   ],
   "source": [
    "# linearize matrix\n",
    "m = np.random.rand(4,4)\n",
    "print(m.shape, \"\\n\", m)\n",
    "#a = np.squeeze(np.asarray(m))\n",
    "a = np.asarray(m).reshape(-1)\n",
    "print(a.shape, \"\\n\", a)\n",
    "\n",
    "# stack vectors\n",
    "print(np.repeat(x,5).astype(np.ubyte), np.repeat(x,5))\n",
    "np.tile(x,5)"
   ]
  }
 ],
 "metadata": {
  "interpreter": {
   "hash": "916dbcbb3f70747c44a77c7bcd40155683ae19c65e1c03b4aa3499c5328201f1"
  },
  "kernelspec": {
   "display_name": "Python 3.8.10 64-bit",
   "language": "python",
   "name": "python3"
  },
  "language_info": {
   "codemirror_mode": {
    "name": "ipython",
    "version": 3
   },
   "file_extension": ".py",
   "mimetype": "text/x-python",
   "name": "python",
   "nbconvert_exporter": "python",
   "pygments_lexer": "ipython3",
   "version": "3.8.10"
  },
  "orig_nbformat": 4
 },
 "nbformat": 4,
 "nbformat_minor": 2
}
