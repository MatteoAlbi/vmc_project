{
 "cells": [
  {
   "cell_type": "code",
   "execution_count": 2,
   "metadata": {},
   "outputs": [],
   "source": [
    "import numpy as np\n",
    "import struct"
   ]
  },
  {
   "cell_type": "code",
   "execution_count": 3,
   "metadata": {},
   "outputs": [
    {
     "name": "stdout",
     "output_type": "stream",
     "text": [
      "[  0  28  56  85 113 141 170 198 226 255] [  0  28  56  85 113 141 170 198 226 255] [  0  28  56  85 113 141 170 198 226 255] [200 200 200 200 200 200 200 200 200 200]\n"
     ]
    },
    {
     "data": {
      "text/plain": [
       "10"
      ]
     },
     "execution_count": 3,
     "metadata": {},
     "output_type": "execute_result"
    }
   ],
   "source": [
    "x = np.linspace(0,1,10)\n",
    "y = np.linspace(0,1,10)\n",
    "z = np.linspace(0,1,10)\n",
    "r = (x * 255.0).astype(int).astype(np.uint8)\n",
    "g = (y * 255.0).astype(int).astype(np.uint8)\n",
    "b = (z * 255.0).astype(int).astype(np.uint8)\n",
    "a = (np.ones(r.shape)*200).astype(int).astype(np.uint8)\n",
    "\n",
    "print(b, g, r, a)\n",
    "x.shape[0]"
   ]
  },
  {
   "cell_type": "code",
   "execution_count": 4,
   "metadata": {},
   "outputs": [
    {
     "data": {
      "text/plain": [
       "array([1429740544, 3333066097,  469827554, 2373014840, 4293052074,\n",
       "       1429740544, 3333066097, 3368615906, 3368601800, 3368601800],\n",
       "      dtype=uint32)"
      ]
     },
     "execution_count": 4,
     "metadata": {},
     "output_type": "execute_result"
    }
   ],
   "source": [
    "# convert into 32bit data field\n",
    "C = np.hstack((r,g,b,a))\n",
    "C = C.view(\"uint32\")\n",
    "C"
   ]
  },
  {
   "cell_type": "code",
   "execution_count": 5,
   "metadata": {},
   "outputs": [
    {
     "name": "stdout",
     "output_type": "stream",
     "text": [
      "(10, 7)\n"
     ]
    },
    {
     "data": {
      "text/plain": [
       "[0.0, 0.0, 0.0, 0.0, 0.0, 0.0, 200.0]"
      ]
     },
     "execution_count": 5,
     "metadata": {},
     "output_type": "execute_result"
    }
   ],
   "source": [
    "# np stacking to create list of points\n",
    "p = np.transpose(np.vstack((x,y,x,r,g,b,a)))\n",
    "print(p.shape)\n",
    "l = p.tolist()\n",
    "l[0]"
   ]
  },
  {
   "cell_type": "code",
   "execution_count": 6,
   "metadata": {},
   "outputs": [
    {
     "name": "stdout",
     "output_type": "stream",
     "text": [
      "0xc8000000\n"
     ]
    }
   ],
   "source": [
    "# hex packing\n",
    "rgb = struct.unpack('I', struct.pack('BBBB', b[0], g[0], r[0], a[0]))[0]\n",
    "print (hex(rgb))"
   ]
  },
  {
   "cell_type": "code",
   "execution_count": 7,
   "metadata": {},
   "outputs": [
    {
     "name": "stdout",
     "output_type": "stream",
     "text": [
      "(4, 4) \n",
      " [[0.54817526 0.18740398 0.66887288 0.90596666]\n",
      " [0.77118411 0.27636055 0.36682863 0.4172722 ]\n",
      " [0.20338618 0.55224639 0.47843723 0.37999905]\n",
      " [0.69434966 0.12587712 0.84432331 0.38731207]]\n",
      "(16,) \n",
      " [0.54817526 0.18740398 0.66887288 0.90596666 0.77118411 0.27636055\n",
      " 0.36682863 0.4172722  0.20338618 0.55224639 0.47843723 0.37999905\n",
      " 0.69434966 0.12587712 0.84432331 0.38731207]\n",
      "[0 0 0 0 0 0 0 0 0 0 0 0 0 0 0 0 0 0 0 0 0 0 0 0 0 0 0 0 0 0 0 0 0 0 0 0 0\n",
      " 0 0 0 0 0 0 0 0 1 1 1 1 1] [0.         0.         0.         0.         0.         0.11111111\n",
      " 0.11111111 0.11111111 0.11111111 0.11111111 0.22222222 0.22222222\n",
      " 0.22222222 0.22222222 0.22222222 0.33333333 0.33333333 0.33333333\n",
      " 0.33333333 0.33333333 0.44444444 0.44444444 0.44444444 0.44444444\n",
      " 0.44444444 0.55555556 0.55555556 0.55555556 0.55555556 0.55555556\n",
      " 0.66666667 0.66666667 0.66666667 0.66666667 0.66666667 0.77777778\n",
      " 0.77777778 0.77777778 0.77777778 0.77777778 0.88888889 0.88888889\n",
      " 0.88888889 0.88888889 0.88888889 1.         1.         1.\n",
      " 1.         1.        ]\n"
     ]
    },
    {
     "data": {
      "text/plain": [
       "array([0.        , 0.11111111, 0.22222222, 0.33333333, 0.44444444,\n",
       "       0.55555556, 0.66666667, 0.77777778, 0.88888889, 1.        ,\n",
       "       0.        , 0.11111111, 0.22222222, 0.33333333, 0.44444444,\n",
       "       0.55555556, 0.66666667, 0.77777778, 0.88888889, 1.        ,\n",
       "       0.        , 0.11111111, 0.22222222, 0.33333333, 0.44444444,\n",
       "       0.55555556, 0.66666667, 0.77777778, 0.88888889, 1.        ,\n",
       "       0.        , 0.11111111, 0.22222222, 0.33333333, 0.44444444,\n",
       "       0.55555556, 0.66666667, 0.77777778, 0.88888889, 1.        ,\n",
       "       0.        , 0.11111111, 0.22222222, 0.33333333, 0.44444444,\n",
       "       0.55555556, 0.66666667, 0.77777778, 0.88888889, 1.        ])"
      ]
     },
     "execution_count": 7,
     "metadata": {},
     "output_type": "execute_result"
    }
   ],
   "source": [
    "# linearize matrix\n",
    "m = np.random.rand(4,4)\n",
    "print(m.shape, \"\\n\", m)\n",
    "#a = np.squeeze(np.asarray(m))\n",
    "a = np.asarray(m).reshape(-1)\n",
    "print(a.shape, \"\\n\", a)\n",
    "\n",
    "# stack vectors\n",
    "print(np.repeat(x,5).astype(np.ubyte), np.repeat(x,5))\n",
    "np.tile(x,5)"
   ]
  },
  {
   "cell_type": "code",
   "execution_count": 8,
   "metadata": {},
   "outputs": [
    {
     "name": "stdout",
     "output_type": "stream",
     "text": [
      "[[ 0.5       -0.8660254]\n",
      " [ 0.8660254  0.5      ]] \n",
      " [1 0] \n",
      " [0.5       0.8660254]\n"
     ]
    }
   ],
   "source": [
    "# rotation matrix\n",
    "theta = np.pi/3\n",
    "R = np.array([[np.cos(theta), -np.sin(theta)],[np.sin(theta), np.cos(theta)]])\n",
    "\n",
    "P = np.array([1,0])\n",
    "R_P = R @ P.T\n",
    "\n",
    "print(R,\"\\n\",P,\"\\n\",R_P)"
   ]
  },
  {
   "cell_type": "code",
   "execution_count": 11,
   "metadata": {},
   "outputs": [
    {
     "data": {
      "text/plain": [
       "array([0, 0, 0, 0])"
      ]
     },
     "execution_count": 11,
     "metadata": {},
     "output_type": "execute_result"
    }
   ],
   "source": [
    "a = np.array([[1,0],[1,0],[1,0],[1,0]])\n",
    "a[:,1]"
   ]
  }
 ],
 "metadata": {
  "interpreter": {
   "hash": "916dbcbb3f70747c44a77c7bcd40155683ae19c65e1c03b4aa3499c5328201f1"
  },
  "kernelspec": {
   "display_name": "Python 3.8.10 64-bit",
   "language": "python",
   "name": "python3"
  },
  "language_info": {
   "codemirror_mode": {
    "name": "ipython",
    "version": 3
   },
   "file_extension": ".py",
   "mimetype": "text/x-python",
   "name": "python",
   "nbconvert_exporter": "python",
   "pygments_lexer": "ipython3",
   "version": "3.8.10"
  },
  "orig_nbformat": 4
 },
 "nbformat": 4,
 "nbformat_minor": 2
}
