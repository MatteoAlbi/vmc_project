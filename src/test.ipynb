{
 "cells": [
  {
   "cell_type": "code",
   "execution_count": 13,
   "metadata": {},
   "outputs": [],
   "source": [
    "import numpy as np\n",
    "import struct"
   ]
  },
  {
   "cell_type": "code",
   "execution_count": 19,
   "metadata": {},
   "outputs": [],
   "source": [
    "x = np.linspace(0,1,10)\n",
    "y = np.linspace(0,1,10)\n",
    "z = np.linspace(0,1,10)"
   ]
  },
  {
   "cell_type": "code",
   "execution_count": 28,
   "metadata": {},
   "outputs": [
    {
     "name": "stdout",
     "output_type": "stream",
     "text": [
      "[  0  28  56  85 113 141 170 198 226 255] [  0  28  56  85 113 141 170 198 226 255] [  0  28  56  85 113 141 170 198 226 255] [200 200 200 200 200 200 200 200 200 200]\n"
     ]
    }
   ],
   "source": [
    "r = (x * 255.0).astype(int).astype(np.ubyte)\n",
    "g = (y * 255.0).astype(int).astype(np.ubyte)\n",
    "b = (z * 255.0).astype(int).astype(np.ubyte)\n",
    "a = (np.ones(r.shape)*200).astype(int).astype(np.ubyte)\n",
    "\n",
    "print(r, g, b, a)"
   ]
  },
  {
   "cell_type": "code",
   "execution_count": 29,
   "metadata": {},
   "outputs": [
    {
     "name": "stdout",
     "output_type": "stream",
     "text": [
      "(10, 7)\n"
     ]
    },
    {
     "data": {
      "text/plain": [
       "[0.4444444444444444,\n",
       " 0.4444444444444444,\n",
       " 0.4444444444444444,\n",
       " 113.0,\n",
       " 113.0,\n",
       " 113.0,\n",
       " 200.0]"
      ]
     },
     "execution_count": 29,
     "metadata": {},
     "output_type": "execute_result"
    }
   ],
   "source": [
    "p = np.transpose(np.vstack((x,y,x,r,g,b,a)))\n",
    "print(p.shape)\n",
    "l = p.tolist()\n",
    "l[4]"
   ]
  },
  {
   "cell_type": "code",
   "execution_count": 25,
   "metadata": {},
   "outputs": [
    {
     "name": "stdout",
     "output_type": "stream",
     "text": [
      "0xc8000000\n"
     ]
    }
   ],
   "source": [
    "rgb = struct.unpack('I', struct.pack('BBBB', b[0], g[0], r[0], a[0]))[0]\n",
    "print (hex(rgb))"
   ]
  },
  {
   "cell_type": "code",
   "execution_count": 56,
   "metadata": {},
   "outputs": [
    {
     "name": "stdout",
     "output_type": "stream",
     "text": [
      "[[0.06739445 0.71537774 0.24333981 0.16646338]\n",
      " [0.42782938 0.55696733 0.67114284 0.16839342]\n",
      " [0.45918814 0.37449591 0.78070828 0.7221156 ]\n",
      " [0.75503532 0.9508293  0.98024125 0.46750116]]\n",
      "[0.06739445 0.71537774 0.24333981 0.16646338 0.42782938 0.55696733\n",
      " 0.67114284 0.16839342 0.45918814 0.37449591 0.78070828 0.7221156\n",
      " 0.75503532 0.9508293  0.98024125 0.46750116]\n",
      "[0 0 0 0 0 0 0 0 0 0 0 0 0 0 0 0 0 0 0 0 0 0 0 0 0 0 0 0 0 0 0 0 0 0 0 0 0\n",
      " 0 0 0 0 0 0 0 0 1 1 1 1 1] [0.         0.         0.         0.         0.         0.11111111\n",
      " 0.11111111 0.11111111 0.11111111 0.11111111 0.22222222 0.22222222\n",
      " 0.22222222 0.22222222 0.22222222 0.33333333 0.33333333 0.33333333\n",
      " 0.33333333 0.33333333 0.44444444 0.44444444 0.44444444 0.44444444\n",
      " 0.44444444 0.55555556 0.55555556 0.55555556 0.55555556 0.55555556\n",
      " 0.66666667 0.66666667 0.66666667 0.66666667 0.66666667 0.77777778\n",
      " 0.77777778 0.77777778 0.77777778 0.77777778 0.88888889 0.88888889\n",
      " 0.88888889 0.88888889 0.88888889 1.         1.         1.\n",
      " 1.         1.        ]\n"
     ]
    },
    {
     "data": {
      "text/plain": [
       "array([0.        , 0.11111111, 0.22222222, 0.33333333, 0.44444444,\n",
       "       0.55555556, 0.66666667, 0.77777778, 0.88888889, 1.        ,\n",
       "       0.        , 0.11111111, 0.22222222, 0.33333333, 0.44444444,\n",
       "       0.55555556, 0.66666667, 0.77777778, 0.88888889, 1.        ,\n",
       "       0.        , 0.11111111, 0.22222222, 0.33333333, 0.44444444,\n",
       "       0.55555556, 0.66666667, 0.77777778, 0.88888889, 1.        ,\n",
       "       0.        , 0.11111111, 0.22222222, 0.33333333, 0.44444444,\n",
       "       0.55555556, 0.66666667, 0.77777778, 0.88888889, 1.        ,\n",
       "       0.        , 0.11111111, 0.22222222, 0.33333333, 0.44444444,\n",
       "       0.55555556, 0.66666667, 0.77777778, 0.88888889, 1.        ])"
      ]
     },
     "execution_count": 56,
     "metadata": {},
     "output_type": "execute_result"
    }
   ],
   "source": [
    "m = np.random.rand(4,4)\n",
    "print(m)\n",
    "a = np.squeeze(np.asarray(m))\n",
    "a = np.asarray(m).reshape(-1)\n",
    "print(a)\n",
    "\n",
    "print(np.repeat(x,5).astype(np.ubyte), np.repeat(x,5))\n",
    "np.tile(x,5)"
   ]
  }
 ],
 "metadata": {
  "interpreter": {
   "hash": "916dbcbb3f70747c44a77c7bcd40155683ae19c65e1c03b4aa3499c5328201f1"
  },
  "kernelspec": {
   "display_name": "Python 3.8.10 64-bit",
   "language": "python",
   "name": "python3"
  },
  "language_info": {
   "codemirror_mode": {
    "name": "ipython",
    "version": 3
   },
   "file_extension": ".py",
   "mimetype": "text/x-python",
   "name": "python",
   "nbconvert_exporter": "python",
   "pygments_lexer": "ipython3",
   "version": "3.8.10"
  },
  "orig_nbformat": 4
 },
 "nbformat": 4,
 "nbformat_minor": 2
}
